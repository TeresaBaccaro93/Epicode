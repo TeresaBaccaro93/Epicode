{
 "cells": [
  {
   "cell_type": "code",
   "execution_count": 1,
   "id": "b01212cc-3e07-488b-bba7-a4a1e73e3367",
   "metadata": {},
   "outputs": [
    {
     "name": "stdout",
     "output_type": "stream",
     "text": [
      "25\n"
     ]
    }
   ],
   "source": [
    "#Esercizio 2\n",
    "studenti=25\n",
    "print(studenti)\n",
    "nuovi_arrivi=3\n",
    "totale_studenti=studenti+nuovi_arrivi\n"
   ]
  },
  {
   "cell_type": "code",
   "execution_count": 2,
   "id": "e5b685f0-92a3-4c3d-8947-584c4190e7c3",
   "metadata": {},
   "outputs": [
    {
     "name": "stdout",
     "output_type": "stream",
     "text": [
      "Epicode\n"
     ]
    }
   ],
   "source": [
    "#Esercizio 3\n",
    "scuola= \"Epicode\"\n",
    "print(scuola)"
   ]
  },
  {
   "cell_type": "code",
   "execution_count": 3,
   "id": "bbd753b3-7fa3-485b-a5d1-1341b295b592",
   "metadata": {},
   "outputs": [
    {
     "name": "stdout",
     "output_type": "stream",
     "text": [
      "10\n",
      "12\n",
      "30\n"
     ]
    }
   ],
   "source": [
    "#Esercizio 4\n",
    "x=10\n",
    "y=10+2\n",
    "z=10*3\n",
    "print(x)\n",
    "print(y)\n",
    "print(z)"
   ]
  },
  {
   "cell_type": "code",
   "execution_count": 4,
   "id": "c6e5014a-9a4e-435d-95de-84b6cdcb3af4",
   "metadata": {},
   "outputs": [
    {
     "name": "stdout",
     "output_type": "stream",
     "text": [
      "7\n",
      "5\n",
      "10\n",
      "4\n"
     ]
    }
   ],
   "source": [
    "#Esercizio 5\n",
    "str1=\"Windows\"\n",
    "str2=\"Excel\"\n",
    "str3=\"Powerpoint\"\n",
    "str4=\"Word\"\n",
    "print(len(str1))\n",
    "print(len(str2))\n",
    "print(len(str3))\n",
    "print(len(str4))"
   ]
  },
  {
   "cell_type": "code",
   "execution_count": 5,
   "id": "34d07187-5e03-4f43-a9db-2f5f93f6d3e8",
   "metadata": {},
   "outputs": [
    {
     "name": "stdout",
     "output_type": "stream",
     "text": [
      "31622400\n"
     ]
    }
   ],
   "source": [
    "#Esercizio 6\n",
    "anno=366\n",
    "secondi_al_giorno=24*60*60\n",
    "secondi_anno_bisestile=anno*secondi_al_giorno\n",
    "print(secondi_anno_bisestile)"
   ]
  },
  {
   "cell_type": "code",
   "execution_count": 7,
   "id": "436412ae-5d6a-4d6a-939c-88c62fc86e9d",
   "metadata": {},
   "outputs": [
    {
     "name": "stdout",
     "output_type": "stream",
     "text": [
      "I AM STUDYING PYTHON\n",
      "i am studying python\n",
      "I am studying Python\n",
      "['I', 'am', 'studying', 'Python']\n",
      "I am studying a lot\n"
     ]
    }
   ],
   "source": [
    "#Esercizio 7\n",
    "my_string=\"I am studying Python\"\n",
    "print(my_string.upper()) #caratteri in maiuscolo\n",
    "print(my_string.lower()) #caratteri in minuscolo\n",
    "print(my_string.strip()) #pulisce i caratteri bianchi in una stringa o elimina spazi in eccesso\n",
    "print(my_string.split()) #divide una stringa in più parti creano una lista\n",
    "new_my_string=my_string.replace(\"Python\", \"a lot\")\n",
    "print(new_my_string)"
   ]
  },
  {
   "cell_type": "code",
   "execution_count": 15,
   "id": "d8139f9a-7770-4b52-adfd-aaa85b328bae",
   "metadata": {},
   "outputs": [
    {
     "name": "stdout",
     "output_type": "stream",
     "text": [
      "['Cybersecurity', 'Data Analyst', 'Backend', 'Fronted', 'Data Analyst', 'Beckend', 'Cybersecurity', 'Frontend']\n"
     ]
    }
   ],
   "source": [
    "#Esercizio 8\n",
    "studenti=[\"Alex\",\"Bob\",\"Cindy\",\"Dan\",\"Emma\",\"Faith\",\"Grace\",\"Henry\"]\n",
    "corsi=[\"Cybersecurity\",\"Data Analyst\",\"Backend\",\"Fronted\",\"Data Analyst\",\"Beckend\"]\n",
    "corsi.append(\"Cybersecurity\")\n",
    "corsi.append(\"Frontend\")\n",
    "print(corsi)"
   ]
  },
  {
   "cell_type": "code",
   "execution_count": null,
   "id": "26c59f12-457c-4ef5-bca8-f53d7a0bc106",
   "metadata": {},
   "outputs": [],
   "source": []
  },
  {
   "cell_type": "code",
   "execution_count": null,
   "id": "14f43233-b66f-4d4d-b50f-fd2d154a1a69",
   "metadata": {},
   "outputs": [],
   "source": []
  }
 ],
 "metadata": {
  "kernelspec": {
   "display_name": "Python 3 (ipykernel)",
   "language": "python",
   "name": "python3"
  },
  "language_info": {
   "codemirror_mode": {
    "name": "ipython",
    "version": 3
   },
   "file_extension": ".py",
   "mimetype": "text/x-python",
   "name": "python",
   "nbconvert_exporter": "python",
   "pygments_lexer": "ipython3",
   "version": "3.12.7"
  }
 },
 "nbformat": 4,
 "nbformat_minor": 5
}
