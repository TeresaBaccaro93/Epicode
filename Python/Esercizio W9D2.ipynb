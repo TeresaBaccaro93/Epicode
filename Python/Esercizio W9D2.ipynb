{
 "cells": [
  {
   "cell_type": "code",
   "execution_count": 1,
   "id": "02703714-7897-4e26-8581-a4339d68c89b",
   "metadata": {},
   "outputs": [
    {
     "name": "stdout",
     "output_type": "stream",
     "text": [
      "E\n",
      "p\n",
      "i\n",
      "c\n",
      "o\n",
      "d\n",
      "e\n"
     ]
    }
   ],
   "source": [
    "#Esercizio 1\n",
    "nome_scuola = \"Epicode\"\n",
    "indice = 0 #inizializzazione\n",
    "\n",
    "while indice < len(nome_scuola):#condizione\n",
    "    print(nome_scuola[indice])\n",
    "    indice += 1 #aggiornamento"
   ]
  },
  {
   "cell_type": "code",
   "execution_count": 2,
   "id": "35d3638f-1c52-4bb7-a98c-4cd0c1e469cb",
   "metadata": {},
   "outputs": [
    {
     "name": "stdout",
     "output_type": "stream",
     "text": [
      "0\n",
      "1\n",
      "2\n",
      "3\n",
      "4\n",
      "5\n",
      "6\n",
      "7\n",
      "8\n",
      "9\n",
      "10\n",
      "11\n",
      "12\n",
      "13\n",
      "14\n",
      "15\n",
      "16\n",
      "17\n",
      "18\n",
      "19\n",
      "20\n"
     ]
    }
   ],
   "source": [
    "#Esercizio 2\n",
    "numero=0 #inizializzazione\n",
    "while numero<=20: #condizione\n",
    "    print(numero)\n",
    "    numero +=1 #aggiornamento\n"
   ]
  },
  {
   "cell_type": "code",
   "execution_count": 3,
   "id": "cd87d609-4c69-4eea-9408-09dc43374995",
   "metadata": {},
   "outputs": [
    {
     "name": "stdout",
     "output_type": "stream",
     "text": [
      "2^0 = 1\n",
      "2^1 = 2\n",
      "2^2 = 4\n",
      "2^3 = 8\n",
      "2^4 = 16\n",
      "2^5 = 32\n",
      "2^6 = 64\n",
      "2^7 = 128\n",
      "2^8 = 256\n",
      "2^9 = 512\n"
     ]
    }
   ],
   "source": [
    "#Esercizio 3\n",
    "n=0\n",
    "potenza=1 #inizializzazione\n",
    "while n < 10: #condizione\n",
    "    print(f\"2^{n} = {potenza}\")\n",
    "    n += 1\n",
    "    potenza *= 2 #aggiornamento"
   ]
  },
  {
   "cell_type": "code",
   "execution_count": 4,
   "id": "7ca259fd-b467-4dc8-84f7-f33433d73954",
   "metadata": {},
   "outputs": [
    {
     "name": "stdin",
     "output_type": "stream",
     "text": [
      "Inserisci il numero N:  3\n"
     ]
    },
    {
     "name": "stdout",
     "output_type": "stream",
     "text": [
      "2^0 = 1\n",
      "2^1 = 2\n",
      "2^2 = 4\n"
     ]
    }
   ],
   "source": [
    "#Esercizio 4\n",
    "N=int(input(\"Inserisci il numero N: \"))\n",
    "potenza = 1 #inizializziamo\n",
    "contatore = 0\n",
    "while contatore < N: #condizione\n",
    "    print(f\"2^{contatore} = {potenza}\")\n",
    "    potenza *= 2  # Aggiorniamo la potenza successiva\n",
    "    contatore += 1\n"
   ]
  },
  {
   "cell_type": "code",
   "execution_count": 2,
   "id": "de994fee-1d21-4b24-9577-bb6a8f8b2047",
   "metadata": {},
   "outputs": [
    {
     "name": "stdout",
     "output_type": "stream",
     "text": [
      "1\n",
      "2\n",
      "4\n",
      "8\n",
      "16\n",
      "32\n",
      "64\n",
      "128\n",
      "256\n",
      "512\n",
      "1024\n",
      "2048\n",
      "4096\n",
      "8192\n",
      "16384\n"
     ]
    }
   ],
   "source": [
    "#Esercizio 5\n",
    "esponente = 0\n",
    "while 2 ** esponente < 25000:\n",
    "    potenza = 2 ** esponente\n",
    "    print(potenza)\n",
    "    esponente = esponente + 1\n",
    "   "
   ]
  },
  {
   "cell_type": "code",
   "execution_count": 3,
   "id": "ec462264-9dcd-4c8f-ad41-de59c469688a",
   "metadata": {},
   "outputs": [
    {
     "name": "stdin",
     "output_type": "stream",
     "text": [
      "Inserisci una stringa: Nome\n"
     ]
    },
    {
     "name": "stdout",
     "output_type": "stream",
     "text": [
      "Nom...ome\n"
     ]
    }
   ],
   "source": [
    "#Esercizio 6\n",
    "stringa=input(\"Inserisci una stringa:\")\n",
    "lunghezza=len(stringa)\n",
    "if lunghezza <= 6:\n",
    "    risultato = stringa[:3] + \"...\" + stringa[-3:]\n",
    "elif lunghezza <= 3:\n",
    "     risultato = stringa\n",
    "else:\n",
    " risultato = stringa\n",
    "print(risultato)"
   ]
  },
  {
   "cell_type": "code",
   "execution_count": 5,
   "id": "b650ace2-5b50-41ad-9491-64458193fa7b",
   "metadata": {},
   "outputs": [
    {
     "name": "stdin",
     "output_type": "stream",
     "text": [
      "Inserisci un numero 150\n"
     ]
    },
    {
     "name": "stdout",
     "output_type": "stream",
     "text": [
      "2\n",
      "3\n",
      "5\n",
      "5\n"
     ]
    }
   ],
   "source": [
    "#Esercizio 7\n",
    "N= int(input(\"Inserisci un numero\"))\n",
    "divisore =2\n",
    "while N>1:\n",
    "    while N%divisore==0:\n",
    "        print(divisore)\n",
    "        N=N//divisore\n",
    "    divisore=divisore+1"
   ]
  },
  {
   "cell_type": "code",
   "execution_count": 7,
   "id": "ab1c9a31-df45-4dcc-ad31-2980ea365884",
   "metadata": {},
   "outputs": [
    {
     "name": "stdout",
     "output_type": "stream",
     "text": [
      "E\n",
      "p\n",
      "i\n",
      "c\n",
      "o\n",
      "d\n",
      "e\n"
     ]
    }
   ],
   "source": [
    "#Esercizio 8\n",
    "nome_scuola = \"Epicode\"\n",
    "for carattere in nome_scuola:\n",
    "    print(carattere) #Stampare ogni carattere della stringa, uno su ogni riga, utilizzando un costrutto for"
   ]
  },
  {
   "cell_type": "code",
   "execution_count": 8,
   "id": "60d41379-9528-4311-907d-7cf3186bfc57",
   "metadata": {},
   "outputs": [
    {
     "name": "stdout",
     "output_type": "stream",
     "text": [
      "1\n",
      "2\n",
      "4\n",
      "8\n",
      "16\n",
      "32\n",
      "64\n",
      "128\n",
      "256\n",
      "512\n"
     ]
    }
   ],
   "source": [
    "#Esercizio 9\n",
    "for esponente in range(10):\n",
    "    potenza = 2 ** esponente\n",
    "    print(potenza)"
   ]
  },
  {
   "cell_type": "code",
   "execution_count": 9,
   "id": "1fbd8df7-29c2-427d-901d-8e3141f45f75",
   "metadata": {},
   "outputs": [
    {
     "name": "stdin",
     "output_type": "stream",
     "text": [
      "Inserisci il valore di K:  10\n",
      "Inserisci il numero di potenze da calcolare (N):  5\n"
     ]
    },
    {
     "name": "stdout",
     "output_type": "stream",
     "text": [
      "Le prime 5 potenze di 10 sono: [1]\n",
      "Le prime 5 potenze di 10 sono: [1, 10]\n",
      "Le prime 5 potenze di 10 sono: [1, 10, 100]\n",
      "Le prime 5 potenze di 10 sono: [1, 10, 100, 1000]\n",
      "Le prime 5 potenze di 10 sono: [1, 10, 100, 1000, 10000]\n"
     ]
    },
    {
     "name": "stdin",
     "output_type": "stream",
     "text": [
      "Inserisci il valore di K:  3\n",
      "Inserisci il numero di potenze da calcolare (N):  4\n"
     ]
    },
    {
     "name": "stdout",
     "output_type": "stream",
     "text": [
      "Le prime 4 potenze di 3 sono: [1]\n",
      "Le prime 4 potenze di 3 sono: [1, 3]\n",
      "Le prime 4 potenze di 3 sono: [1, 3, 9]\n",
      "Le prime 4 potenze di 3 sono: [1, 3, 9, 27]\n"
     ]
    }
   ],
   "source": [
    "#Esercizio 10\n",
    "#Versione con while\n",
    "K = int(input(\"Inserisci il valore di K: \"))\n",
    "N = int(input(\"Inserisci il numero di potenze da calcolare (N): \"))\n",
    "potenze = []\n",
    "i = 0\n",
    "while i < N:\n",
    "    potenza = K ** i\n",
    "    potenze.append(potenza)\n",
    "    i += 1\n",
    "    print(\"Le prime\", N, \"potenze di\", K, \"sono:\", potenze)\n",
    "#Versione con for\n",
    "K = int(input(\"Inserisci il valore di K: \"))\n",
    "N = int(input(\"Inserisci il numero di potenze da calcolare (N): \"))\n",
    "potenze = []\n",
    "for i in range(N):\n",
    "    potenza = K ** i\n",
    "    potenze.append(potenza)\n",
    "    print(\"Le prime\", N, \"potenze di\", K, \"sono:\", potenze)\n",
    "    "
   ]
  },
  {
   "cell_type": "code",
   "execution_count": 13,
   "id": "2f379832-5ea0-4870-bcfe-e8ed32aada30",
   "metadata": {},
   "outputs": [
    {
     "name": "stdout",
     "output_type": "stream",
     "text": [
      "La media dei guadagni è: 70.0\n"
     ]
    }
   ],
   "source": [
    "#Esercio 11\n",
    "guadagni = [100, 90, 70, 40, 50, 80, 90, 120, 80, 20, 50, 50]\n",
    "somma = 0\n",
    "\n",
    "for guadagno in guadagni:\n",
    "    somma += guadagno\n",
    "\n",
    "media = somma / len(guadagni)\n",
    "print(\"La media dei guadagni è:\", media)\n",
    "\n"
   ]
  },
  {
   "cell_type": "code",
   "execution_count": 34,
   "id": "08bf240e-2351-45e3-a602-daa567db87c7",
   "metadata": {},
   "outputs": [
    {
     "name": "stdout",
     "output_type": "stream",
     "text": [
      "Abete: 2 volte la lettera 'e'\n",
      "Albergo: 1 volte la lettera 'e'\n",
      "Belvedere: 4 volte la lettera 'e'\n",
      "Borgo: 0 volte la lettera 'e'\n",
      "Cesta: 1 volte la lettera 'e'\n",
      "Eremo: 2 volte la lettera 'e'\n",
      "Ermellino: 2 volte la lettera 'e'\n",
      "Esteta: 2 volte la lettera 'e'\n",
      "Orologio: 0 volte la lettera 'e'\n",
      "Orpello: 1 volte la lettera 'e'\n",
      "Petalo: 1 volte la lettera 'e'\n",
      "Sedia: 1 volte la lettera 'e'\n",
      "Semestre: 3 volte la lettera 'e'\n",
      "Sosta: 0 volte la lettera 'e'\n"
     ]
    }
   ],
   "source": [
    "#Esercizio 12 \n",
    "parole = [\"Albergo\", \"Sedia\", \"Borgo\", \"Petalo\", \"Eremo\", \"Belvedere\", \"Semestre\", \"Esteta\", \"Sosta\", \"Orpello\", \"Abete\", \"Orologio\", \"Cesta\", \"Ermellino\"]\n",
    "conteggi = []\n",
    "for parola in parole:\n",
    "    conteggio_e = parola.lower().count('e')\n",
    "    conteggi.append((parola, conteggio_e))\n",
    "    conteggi_ordinate = sorted(conteggi)\n",
    "\n",
    "for parola, conta in conteggi_ordinate:\n",
    "    print(f\"{parola}: {conta} volte la lettera 'e'\")\n",
    "    \n"
   ]
  },
  {
   "cell_type": "code",
   "execution_count": null,
   "id": "a8047f47-7e4a-4051-b935-e3f83d2b698d",
   "metadata": {},
   "outputs": [],
   "source": [
    "#Esercizio 13 pagina 14 sui Dizionari\n",
    "auto_proprietari={\n",
    "    'Ada':'Punto',\n",
    "    'Ben':'Multipla',\n",
    "    'Charlie':'Golf',\n",
    "    'Debbie':'107'\n",
    "} #Creo un dizionario che assegni ad ogni proprietario la sua auto\n",
    "print(auto_proprietari) #Stampo il dizionario per intero\n",
    "print(auto_proprietari['Debbie']) #stampo l'auto associata a Debbie\n",
    "    "
   ]
  },
  {
   "cell_type": "code",
   "execution_count": null,
   "id": "83338b31-5459-4525-823b-a1211aa11047",
   "metadata": {},
   "outputs": [],
   "source": [
    "dizionario_auto={ \n",
    "    'Ada':'Punto',\n",
    "    'Ben':'Multipla',\n",
    "    'Charlie':'Golf',\n",
    "    'Debbie':'107'\n",
    "}     \n",
    "for auto in dizionario_auto.values():\n",
    "    if auto !='Multipla':\n",
    "        print(auto) #Stampo tutte le auto che non sono una Multipla\n"
   ]
  },
  {
   "cell_type": "code",
   "execution_count": null,
   "id": "89a99598-9197-4444-8f67-45d7a7403056",
   "metadata": {},
   "outputs": [],
   "source": [
    "dizionario_auto={ \n",
    "    'Ada':'Punto',\n",
    "    'Ben':'Multipla',\n",
    "    'Charlie':'Golf',\n",
    "    'Debbie':'107',\n",
    "    'Emily':'A1'\n",
    "}\n",
    "nuovi_proprietari={\n",
    "    'Ben':'Polo',\n",
    "    'Fred':'Octavia',\n",
    "    'Grace':'Yaris',\n",
    "    'Hugh':'Clio'\n",
    "}\n",
    "dizionario_auto.update(nuovi_proprietari) #Aggiornare il dizionario\n",
    "print(dizionario_auto)"
   ]
  },
  {
   "cell_type": "code",
   "execution_count": null,
   "id": "4047bc74-8f6a-453b-9cdc-398a96e728d3",
   "metadata": {},
   "outputs": [],
   "source": []
  }
 ],
 "metadata": {
  "kernelspec": {
   "display_name": "Python 3 (ipykernel)",
   "language": "python",
   "name": "python3"
  },
  "language_info": {
   "codemirror_mode": {
    "name": "ipython",
    "version": 3
   },
   "file_extension": ".py",
   "mimetype": "text/x-python",
   "name": "python",
   "nbconvert_exporter": "python",
   "pygments_lexer": "ipython3",
   "version": "3.12.7"
  }
 },
 "nbformat": 4,
 "nbformat_minor": 5
}
