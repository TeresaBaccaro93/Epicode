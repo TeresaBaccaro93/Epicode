{
 "cells": [
  {
   "cell_type": "code",
   "execution_count": 13,
   "id": "3c21cba5-fbd6-4f86-affe-191fcb682bfb",
   "metadata": {},
   "outputs": [
    {
     "data": {
      "text/plain": [
       "7"
      ]
     },
     "execution_count": 13,
     "metadata": {},
     "output_type": "execute_result"
    }
   ],
   "source": [
    "#Esercizio 1\n",
    "#Può essere vista come una tabella dove le righe sono rappresentate dalle liste interne e le colonne dagli elementi all’interno di queste liste. \n",
    "mat = [[0, 1, 2, 3, 4], [5, 6, 7, 8, 9], [10, 11, 12, 13, 14]]\n",
    "elemento=mat[1][2]\n",
    "mat[1]\n",
    "mat[1][2]\n"
   ]
  },
  {
   "cell_type": "code",
   "execution_count": 14,
   "id": "6e03e4dc-d9b3-4e62-b16f-1fbb232acf03",
   "metadata": {},
   "outputs": [
    {
     "name": "stdout",
     "output_type": "stream",
     "text": [
      "3.141592653589793\n",
      "Seno di 1.5707963267948966 radianti: 1.0\n",
      "Coseno di 1.5707963267948966 radianti: 6.123233995736766e-17\n",
      "Fattoriale di 5: 120\n",
      "Valore di pi greco: 3.141592653589793\n"
     ]
    }
   ],
   "source": [
    "#Esercizio 2\n",
    "import math \n",
    "print(math.pi) #Usare pi \n",
    "angolo_in_radianti=math.pi/2 \n",
    "seno=math.sin(angolo_in_radianti) #Calcolare il seno di 90 gradi in radianti\n",
    "coseno=math.cos(angolo_in_radianti) #Calcolare il coseno\n",
    "\n",
    "print(f\"Seno di {angolo_in_radianti} radianti: {seno}\") \n",
    "print(f\"Coseno di {angolo_in_radianti} radianti: {coseno}\")\n",
    "\n",
    "numero = 5 #Calcolo del fattoriale di un numero\n",
    "fattoriale = math.factorial(numero)\n",
    "print(f\"Fattoriale di {numero}: {fattoriale}\")\n",
    "\n",
    "print(f\"Valore di pi greco: {math.pi}\")\n",
    "\n"
   ]
  },
  {
   "cell_type": "code",
   "execution_count": 15,
   "id": "ada456ca-88cc-40dc-a603-327f969f751c",
   "metadata": {},
   "outputs": [
    {
     "name": "stdout",
     "output_type": "stream",
     "text": [
      "Help on built-in function degrees in module math:\n",
      "\n",
      "degrees(x, /)\n",
      "    Convert angle x from radians to degrees.\n",
      "\n"
     ]
    }
   ],
   "source": [
    "#Esercizio 3\n",
    "#Converte il valore di π (pi greco), che è in radianti, in gradi\n",
    "math.degrees(math.pi)\n",
    "help(math.degrees)\n"
   ]
  },
  {
   "cell_type": "code",
   "execution_count": 16,
   "id": "ed15bc35-35ab-4816-9f66-0498668c7de9",
   "metadata": {},
   "outputs": [
    {
     "name": "stdout",
     "output_type": "stream",
     "text": [
      "Vendita massima: 8150\n",
      "Vendita minima: 1280\n",
      "Vendite maggiori di 4999: [5500 7200 6410 8150 7100 5350]\n",
      "Numero di vendite maggiori di 4999: 6\n",
      "Vendite minori di 3000: [2000 1280 1900 2500]\n"
     ]
    }
   ],
   "source": [
    "#Esercizio 4\n",
    "import numpy as np\n",
    "lst = [2000, 5500, 7200, 4320, 1280, 1900, 2500, 3900, 6410, 8150, 7100, 5350]\n",
    "arr = np.array(lst) #Trasformo la lista in un array Numpy\n",
    "#Vendita massima mensile\n",
    "vendita_massima=arr.max()\n",
    "\n",
    "print(\"Vendita massima:\",vendita_massima)\n",
    "#Vendita minima mensile\n",
    "vendita_minima=arr.min()\n",
    "\n",
    "print(\"Vendita minima:\",vendita_minima)\n",
    "#Vendite maggiori di 4999\n",
    "vendite_maggiori_4999 = arr[arr > 4999]\n",
    "numero_vendite_maggiori_4999 = vendite_maggiori_4999.size\n",
    "\n",
    "print(\"Vendite maggiori di 4999:\", vendite_maggiori_4999)\n",
    "print(\"Numero di vendite maggiori di 4999:\", numero_vendite_maggiori_4999)\n",
    "#Vendite minori di 3000\n",
    "vendite_minori_3000 = arr[arr < 3000]\n",
    "\n",
    "print(\"Vendite minori di 3000:\", vendite_minori_3000)\n"
   ]
  },
  {
   "cell_type": "code",
   "execution_count": 17,
   "id": "4bef5fc9-b91a-4ad1-8341-9580bd1c1a32",
   "metadata": {},
   "outputs": [
    {
     "data": {
      "text/plain": [
       "12000"
      ]
     },
     "execution_count": 17,
     "metadata": {},
     "output_type": "execute_result"
    }
   ],
   "source": [
    "#Esercizio 5\n",
    "fatturati_dict = {1997: 12_000, 1998: 15_000, 1999: 20_000, 2000: 23_000, 2001: 25_000, 2002: 17_000, 2003: 14_000, 2004: 21_000}\n",
    "fatturati_series = pd.Series([12_000, 15_000, 20_000, 23_000, 25_000, 17_000, 14_000, 21_000], index=range(1997, 2005))\n",
    "fatturati_dict[1997] #Per accedere al dizionario che ci da chiave:valore\n",
    "fatturati_series[1997] #Per accedere alle series di pandas colonna di dati con indice, più potente per analisi e manipolazioni.\n"
   ]
  },
  {
   "cell_type": "code",
   "execution_count": 18,
   "id": "2a1d7912-87f8-4103-80aa-97462f23d30a",
   "metadata": {},
   "outputs": [
    {
     "name": "stdout",
     "output_type": "stream",
     "text": [
      "Stipendi raddoppiati con il ciclo for: [ 200  400  600  800 1000 1200 1400 1600 1800 2000]\n",
      "Stipendi raddoppiati con il masking: [ 200  400  600  800 1000 1200 1400 1600 1800 2000]\n"
     ]
    }
   ],
   "source": [
    "#Esercizio 6\n",
    "import numpy as np\n",
    "\n",
    "stipendi = np.array([100, 200, 300, 400, 500, 600, 700, 800, 900, 1000])\n",
    "\n",
    "# Creiamo una copia per non modificare l'originale (opzionale)\n",
    "stipendi_raddoppiati_for = stipendi.copy()\n",
    "\n",
    "# Raddoppiare usando un ciclo for\n",
    "for i in range(len(stipendi_raddoppiati_for)):\n",
    "    stipendi_raddoppiati_for[i] *= 2\n",
    "\n",
    "print(\"Stipendi raddoppiati con il ciclo for:\", stipendi_raddoppiati_for)\n",
    "\n",
    "# Creiamo una copia per non modificare l'originale (opzionale)\n",
    "stipendi_raddoppiati_masking = stipendi.copy()\n",
    "\n",
    "# Raddoppiare usando il masking\n",
    "stipendi_raddoppiati_masking[stipendi_raddoppiati_masking >= 0] *= 2\n",
    "\n",
    "print(\"Stipendi raddoppiati con il masking:\", stipendi_raddoppiati_masking)\n",
    "\n",
    "\n"
   ]
  },
  {
   "cell_type": "code",
   "execution_count": 4,
   "id": "0187a0d8-1267-405f-bcea-b3081775dc2c",
   "metadata": {},
   "outputs": [
    {
     "name": "stdout",
     "output_type": "stream",
     "text": [
      "I tre numeri più grandi sono: [9, 7, 5]\n",
      "La lista contiene meno di tre numeri.\n",
      "Numeri disponibili: [8, 4]\n",
      "I tre numeri più grandi sono: [30, 20, 10]\n"
     ]
    }
   ],
   "source": [
    "#Esercizio 7\n",
    "def tre_massimi(numeri):\n",
    "    if len(numeri) < 3:\n",
    "        print(\"La lista contiene meno di tre numeri.\")\n",
    "        print(\"Numeri disponibili:\", sorted(numeri, reverse=True))\n",
    "    else:\n",
    "        # Usa set per rimuovere duplicati, poi ordina e prendi i tre più grandi\n",
    "        unici = list(set(numeri))\n",
    "        unici.sort(reverse=True)\n",
    "        top3 = unici[:3]\n",
    "        print(\"I tre numeri più grandi sono:\", top3)\n",
    "\n",
    "# Esempi di utilizzo\n",
    "lista1 = [7, 3, 9, 1, 9, 5, 7]    # Numeri ripetuti\n",
    "lista2 = [4, 8]                  # Meno di tre numeri\n",
    "lista3 = [10, 20, 30, 5, 30]     # Alcuni duplicati\n",
    "\n",
    "tre_massimi(lista1)\n",
    "tre_massimi(lista2)\n",
    "tre_massimi(lista3)\n"
   ]
  },
  {
   "cell_type": "code",
   "execution_count": 20,
   "id": "d13ddae2-9718-41cf-9759-db72984bbde6",
   "metadata": {},
   "outputs": [
    {
     "name": "stdin",
     "output_type": "stream",
     "text": [
      "Inserisci una lista di numeri separati da spazi:  20 30 40\n",
      "Inserisci il numero K:  25\n"
     ]
    },
    {
     "name": "stdout",
     "output_type": "stream",
     "text": [
      "La media dei numeri maggiori o uguali a 25.0 è: 35.0\n"
     ]
    }
   ],
   "source": [
    "#Esercizio 8\n",
    "# Acquisizione della lista di numeri dall'utente\n",
    "numeri_input = input(\"Inserisci una lista di numeri separati da spazi: \")\n",
    "# Conversione della stringa in una lista di numeri\n",
    "lista_numeri = list(map(float, numeri_input.split()))\n",
    "\n",
    "# Acquisizione del numero K\n",
    "K = float(input(\"Inserisci il numero K: \"))\n",
    "\n",
    "# Filtrare i numeri maggiori o uguali a K\n",
    "numeri_filtrati = [num for num in lista_numeri if num >= K]\n",
    "\n",
    "# Controllare se ci sono numeri filtrati\n",
    "if len(numeri_filtrati) == 0:\n",
    "    print(\"Non ci sono numeri maggiori o uguali a K.\")\n",
    "else:\n",
    "    # Calcolare la media\n",
    "    media = sum(numeri_filtrati) / len(numeri_filtrati)\n",
    "    print(f\"La media dei numeri maggiori o uguali a {K} è: {media}\")\n"
   ]
  },
  {
   "cell_type": "code",
   "execution_count": 3,
   "id": "33291b5f-9ccb-44fc-b062-86a71c4e194f",
   "metadata": {},
   "outputs": [
    {
     "name": "stdout",
     "output_type": "stream",
     "text": [
      "*****\n",
      "**\n",
      "***\n",
      "****\n"
     ]
    }
   ],
   "source": [
    "#Esercizio 9\n",
    "# Lista di numeri di esempio\n",
    "numeri = [5, 2, 3, 4]\n",
    "\n",
    "# Per ogni numero nella lista\n",
    "for num in numeri:\n",
    "    # Stampa una riga di asterischi uguale al valore del numero\n",
    "    print('*' * num)"
   ]
  },
  {
   "cell_type": "code",
   "execution_count": 2,
   "id": "8d5fe8e9-5f11-4ed8-b9b5-f962a761cb2e",
   "metadata": {},
   "outputs": [
    {
     "name": "stdout",
     "output_type": "stream",
     "text": [
      "Codici fiscali che contengono '95':\n",
      "['ABCDEF95G01A123B', 'STUVWX95Z04A654E', 'DEFGHI95J06A987G']\n",
      "\n",
      "Codice fiscale: ABCDEF95G01A123B\n",
      "Cognome (prime 3 lettere): ABC\n",
      "Nome (lettere 4-6): DEF\n",
      "\n",
      "Codice fiscale: STUVWX95Z04A654E\n",
      "Cognome (prime 3 lettere): STU\n",
      "Nome (lettere 4-6): VWX\n",
      "\n",
      "Codice fiscale: DEFGHI95J06A987G\n",
      "Cognome (prime 3 lettere): DEF\n",
      "Nome (lettere 4-6): GHI\n"
     ]
    }
   ],
   "source": [
    "#Esercizio 10\n",
    "# Lista di codici fiscali\n",
    "lista_cf = [\"ABCDEF95G01A123B\", \"GHIJKL91M02A321C\", \"MNOPQR89S03A456D\", \"STUVWX95Z04A654E\", \"XYZABC01D05A789F\", \"DEFGHI95J06A987G\"]\n",
    "\n",
    "# Lista per i codici fiscali che contengono \"95\"\n",
    "cf_con_95 = []\n",
    "\n",
    "# Ciclo per trovare i codici che contengono \"95\"\n",
    "for cf in lista_cf:\n",
    "    if \"95\" in cf:\n",
    "        cf_con_95.append(cf)\n",
    "\n",
    "# Stampa della lista filtrata\n",
    "print(\"Codici fiscali che contengono '95':\")\n",
    "print(cf_con_95)\n",
    "\n",
    "# Per ogni codice fiscale trovato, estraiamo e stampiamo i caratteri del nome e del cognome\n",
    "for cf in cf_con_95:\n",
    "    # Supponendo che il formato sia standard e che:\n",
    "    # - i primi 3 caratteri siano il cognome\n",
    "    # - i successivi 3 siano il nome\n",
    "    # - e che le altre parti siano di seguito\n",
    "    cognome = cf[0:3]\n",
    "    nome = cf[3:6]\n",
    "    print(f\"\\nCodice fiscale: {cf}\")\n",
    "    print(f\"Cognome (prime 3 lettere): {cognome}\")\n",
    "    print(f\"Nome (lettere 4-6): {nome}\")"
   ]
  },
  {
   "cell_type": "code",
   "execution_count": 6,
   "id": "8e7c7eb5-a94e-41aa-9882-8c65c3fa3dcd",
   "metadata": {},
   "outputs": [
    {
     "name": "stdout",
     "output_type": "stream",
     "text": [
      "Alex\n",
      "Faith\n"
     ]
    }
   ],
   "source": [
    "#Esercizio 11\n",
    "studenti = [\"Alex\", \"Bob\", \"Cindy\", \"Dan\", \"Emma\", \"Faith\", \"Grace\", \"Henry\"]\n",
    "corsi = [\"Cybersecurity\", \"Data Analyst\", \"Backend\", \"Frontend\", \"Data Analyst\", \"Backend\", \"Frontend\", \"Cybersecurity\"]\n",
    "edizioni = [1, 2, 3, 2, 2, 1, 3, 3]\n",
    "\n",
    "# Ciclo per verificare quali studenti sono alla prima edizione\n",
    "for i in range(len(studenti)):\n",
    "    if edizioni[i] == 1:\n",
    "        print(studenti[i])"
   ]
  },
  {
   "cell_type": "code",
   "execution_count": 7,
   "id": "cff81341-cf83-4b26-a216-9243e4f99370",
   "metadata": {},
   "outputs": [
    {
     "name": "stdout",
     "output_type": "stream",
     "text": [
      "['100 $', '200 $', '500 $', '10 $', '50 $', '70 $']\n"
     ]
    }
   ],
   "source": [
    "#Esercizio 12\n",
    "prezzi = [\"100 €\", \"200 €\", \"500 €\", \"10 €\", \"50 €\", \"70 €\"]\n",
    "prezzi_dollaro = []\n",
    "\n",
    "for prezzo in prezzi:\n",
    "    prezzo_dollaro = prezzo.replace(\"€\", \"$\")\n",
    "    prezzi_dollaro.append(prezzo_dollaro)\n",
    "\n",
    "print(prezzi_dollaro)"
   ]
  },
  {
   "cell_type": "code",
   "execution_count": 8,
   "id": "d0953121-3c91-4867-9d3a-3e5d27d86333",
   "metadata": {},
   "outputs": [
    {
     "name": "stdout",
     "output_type": "stream",
     "text": [
      "Squadra con posizioni pari: ['Alex', 'Cindy', 'Emma', 'Grace', 'Isabelle']\n",
      "Squadra con posizioni dispari: ['Bob', 'Dan', 'Faith', 'Henry', 'John']\n"
     ]
    }
   ],
   "source": [
    "#Esercizio 13\n",
    "studenti = [\"Alex\", \"Bob\", \"Cindy\", \"Dan\", \"Emma\", \"Faith\", \"Grace\", \"Henry\", \"Isabelle\", \"John\"]\n",
    "\n",
    "# Squadra 1: nomi in posizione dispari (indice 0, 2, 4, ...)\n",
    "squadra_pari = [studenti[i] for i in range(len(studenti)) if i % 2 == 0]\n",
    "\n",
    "# Squadra 2: nomi in posizione pari (indice 1, 3, 5, ...)\n",
    "squadra_dispari = [studenti[i] for i in range(len(studenti)) if i % 2 != 0]\n",
    "\n",
    "print(\"Squadra con posizioni pari:\", squadra_pari)\n",
    "print(\"Squadra con posizioni dispari:\", squadra_dispari)"
   ]
  },
  {
   "cell_type": "code",
   "execution_count": 9,
   "id": "3386ff7e-2bf7-44d9-bf47-6337f761e21f",
   "metadata": {},
   "outputs": [
    {
     "name": "stdout",
     "output_type": "stream",
     "text": [
      "Mese 1: 100 €\n",
      "Mese 2: 90 € (media prec: 100.00 € - il guadagno attuale è minore)\n",
      "Mese 3: 70 € (media prec: 95.00 € - il guadagno attuale è minore)\n",
      "Mese 4: 40 € (media prec: 86.67 € - il guadagno attuale è minore)\n",
      "Mese 5: 50 € (media prec: 75.00 € - il guadagno attuale è minore)\n",
      "Mese 6: 80 € (media prec: 70.00 € - il guadagno attuale è maggiore)\n",
      "Mese 7: 90 € (media prec: 71.67 € - il guadagno attuale è maggiore)\n",
      "Mese 8: 120 € (media prec: 74.29 € - il guadagno attuale è maggiore)\n",
      "Mese 9: 80 € (media prec: 80.00 € - il guadagno attuale è uguale)\n",
      "Mese 10: 20 € (media prec: 80.00 € - il guadagno attuale è minore)\n",
      "Mese 11: 50 € (media prec: 74.00 € - il guadagno attuale è minore)\n",
      "Mese 12: 50 € (media prec: 71.82 € - il guadagno attuale è minore)\n"
     ]
    }
   ],
   "source": [
    "#Esercizio 14\n",
    "# Lista dei guadagni mensili\n",
    "guadagni = [100, 90, 70, 40, 50, 80, 90, 120, 80, 20, 50, 50]\n",
    "\n",
    "# Variabile per sommare i guadagni precedenti\n",
    "somma_precedente = 0\n",
    "\n",
    "# Iterare sui mesi\n",
    "for i in range(len(guadagni)):\n",
    "    guadagno_attuale = guadagni[i]\n",
    "\n",
    "    # Calcolare la media dei mesi precedenti (se ci sono)\n",
    "    if i == 0:\n",
    "        # Primo mese: non ci sono precedenti\n",
    "        media_precedente = None\n",
    "        print(f\"Mese {i+1}: {guadagno_attuale} €\")\n",
    "    else:\n",
    "        media_precedente = somma_precedente / i\n",
    "        # Confronto tra guadagno attuale e media precedente\n",
    "        if guadagno_attuale > media_precedente:\n",
    "            confronto = \"maggiore\"\n",
    "        elif guadagno_attuale < media_precedente:\n",
    "            confronto = \"minore\"\n",
    "        else:\n",
    "            confronto = \"uguale\"\n",
    "\n",
    "        print(f\"Mese {i+1}: {guadagno_attuale} € (media prec: {media_precedente:.2f} € - il guadagno attuale è {confronto})\")\n",
    "\n",
    "    # Aggiornare la somma dei precedenti\n",
    "    somma_precedente += guadagno_attuale"
   ]
  },
  {
   "cell_type": "code",
   "execution_count": null,
   "id": "3fa22820-442d-44ff-aaa9-6d222ea6ee9f",
   "metadata": {},
   "outputs": [],
   "source": []
  }
 ],
 "metadata": {
  "kernelspec": {
   "display_name": "Python 3 (ipykernel)",
   "language": "python",
   "name": "python3"
  },
  "language_info": {
   "codemirror_mode": {
    "name": "ipython",
    "version": 3
   },
   "file_extension": ".py",
   "mimetype": "text/x-python",
   "name": "python",
   "nbconvert_exporter": "python",
   "pygments_lexer": "ipython3",
   "version": "3.12.7"
  }
 },
 "nbformat": 4,
 "nbformat_minor": 5
}
